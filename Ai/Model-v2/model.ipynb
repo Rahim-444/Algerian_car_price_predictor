{
 "cells": [
  {
   "cell_type": "code",
   "execution_count": 2,
   "metadata": {},
   "outputs": [
    {
     "name": "stderr",
     "output_type": "stream",
     "text": [
      "/home/amine/.local/lib/python3.11/site-packages/pandas/core/arrays/masked.py:60: UserWarning: Pandas requires version '1.3.6' or newer of 'bottleneck' (version '1.3.5' currently installed).\n",
      "  from pandas.core import (\n"
     ]
    }
   ],
   "source": [
    "import pandas as pd \n"
   ]
  },
  {
   "cell_type": "code",
   "execution_count": 3,
   "metadata": {},
   "outputs": [
    {
     "data": {
      "text/html": [
       "<div>\n",
       "<style scoped>\n",
       "    .dataframe tbody tr th:only-of-type {\n",
       "        vertical-align: middle;\n",
       "    }\n",
       "\n",
       "    .dataframe tbody tr th {\n",
       "        vertical-align: top;\n",
       "    }\n",
       "\n",
       "    .dataframe thead th {\n",
       "        text-align: right;\n",
       "    }\n",
       "</style>\n",
       "<table border=\"1\" class=\"dataframe\">\n",
       "  <thead>\n",
       "    <tr style=\"text-align: right;\">\n",
       "      <th></th>\n",
       "      <th>_id</th>\n",
       "      <th>price</th>\n",
       "      <th>Marque</th>\n",
       "      <th>Modele</th>\n",
       "      <th>Annee</th>\n",
       "      <th>Energie</th>\n",
       "      <th>Kilometrage</th>\n",
       "      <th>Couleur</th>\n",
       "      <th>options[0]</th>\n",
       "      <th>options[1]</th>\n",
       "      <th>...</th>\n",
       "      <th>options[6]</th>\n",
       "      <th>options[7]</th>\n",
       "      <th>options[8]</th>\n",
       "      <th>options[9]</th>\n",
       "      <th>options[10]</th>\n",
       "      <th>options[11]</th>\n",
       "      <th>options[12]</th>\n",
       "      <th>options[13]</th>\n",
       "      <th>options[14]</th>\n",
       "      <th>__v</th>\n",
       "    </tr>\n",
       "  </thead>\n",
       "  <tbody>\n",
       "    <tr>\n",
       "      <th>0</th>\n",
       "      <td>66226547ad4c164ca6fa5f30</td>\n",
       "      <td>180 Millions</td>\n",
       "      <td>Baic</td>\n",
       "      <td>D20 Coupé</td>\n",
       "      <td>2021.0</td>\n",
       "      <td>GPL</td>\n",
       "      <td>80000km</td>\n",
       "      <td>Gris Argent</td>\n",
       "      <td>Climatisation</td>\n",
       "      <td>ABS</td>\n",
       "      <td>...</td>\n",
       "      <td>Phares antibrouillard</td>\n",
       "      <td>Radio CD</td>\n",
       "      <td>Alarme</td>\n",
       "      <td>Vitres éléctriques</td>\n",
       "      <td>NaN</td>\n",
       "      <td>NaN</td>\n",
       "      <td>NaN</td>\n",
       "      <td>NaN</td>\n",
       "      <td>NaN</td>\n",
       "      <td>0</td>\n",
       "    </tr>\n",
       "    <tr>\n",
       "      <th>1</th>\n",
       "      <td>66226549ad4c164ca6fa5f32</td>\n",
       "      <td>340 Millions</td>\n",
       "      <td>Volkswagen</td>\n",
       "      <td>Golf 7</td>\n",
       "      <td>2014.0</td>\n",
       "      <td>Essence</td>\n",
       "      <td>169000km</td>\n",
       "      <td>Blanc</td>\n",
       "      <td>Climatisation</td>\n",
       "      <td>Toit ouvrant</td>\n",
       "      <td>...</td>\n",
       "      <td>Retroviseurs électriques</td>\n",
       "      <td>Phares antibrouillard</td>\n",
       "      <td>Radio CD</td>\n",
       "      <td>Alarme</td>\n",
       "      <td>Phares xénon</td>\n",
       "      <td>Jantes Alliage</td>\n",
       "      <td>Feux du jour</td>\n",
       "      <td>Vitres éléctriques</td>\n",
       "      <td>NaN</td>\n",
       "      <td>0</td>\n",
       "    </tr>\n",
       "    <tr>\n",
       "      <th>2</th>\n",
       "      <td>6622654aad4c164ca6fa5f34</td>\n",
       "      <td>1 Millions</td>\n",
       "      <td>Mercedes</td>\n",
       "      <td>Class A 200 diyazel</td>\n",
       "      <td>2023.0</td>\n",
       "      <td>Diesel</td>\n",
       "      <td>19000km</td>\n",
       "      <td>Blanc</td>\n",
       "      <td>Climatisation</td>\n",
       "      <td>Toit ouvrant</td>\n",
       "      <td>...</td>\n",
       "      <td>Retroviseurs électriques</td>\n",
       "      <td>Phares antibrouillard</td>\n",
       "      <td>Radio CD</td>\n",
       "      <td>Alarme</td>\n",
       "      <td>Phares xénon</td>\n",
       "      <td>Jantes Alliage</td>\n",
       "      <td>Feux du jour</td>\n",
       "      <td>Vitres éléctriques</td>\n",
       "      <td>NaN</td>\n",
       "      <td>0</td>\n",
       "    </tr>\n",
       "    <tr>\n",
       "      <th>3</th>\n",
       "      <td>6622654cad4c164ca6fa5f36</td>\n",
       "      <td>162 Millions</td>\n",
       "      <td>Peugeot</td>\n",
       "      <td>208</td>\n",
       "      <td>2013.0</td>\n",
       "      <td>Diesel</td>\n",
       "      <td>400km</td>\n",
       "      <td>Blanc</td>\n",
       "      <td>Climatisation</td>\n",
       "      <td>Toit ouvrant</td>\n",
       "      <td>...</td>\n",
       "      <td>NaN</td>\n",
       "      <td>NaN</td>\n",
       "      <td>NaN</td>\n",
       "      <td>NaN</td>\n",
       "      <td>NaN</td>\n",
       "      <td>NaN</td>\n",
       "      <td>NaN</td>\n",
       "      <td>NaN</td>\n",
       "      <td>NaN</td>\n",
       "      <td>0</td>\n",
       "    </tr>\n",
       "    <tr>\n",
       "      <th>4</th>\n",
       "      <td>6622654dad4c164ca6fa5f38</td>\n",
       "      <td>1 Millions</td>\n",
       "      <td>Mercedes</td>\n",
       "      <td>Gle</td>\n",
       "      <td>2023.0</td>\n",
       "      <td>Diesel</td>\n",
       "      <td>00km</td>\n",
       "      <td>Noir</td>\n",
       "      <td>Climatisation</td>\n",
       "      <td>Toit ouvrant</td>\n",
       "      <td>...</td>\n",
       "      <td>Retroviseurs électriques</td>\n",
       "      <td>Phares antibrouillard</td>\n",
       "      <td>Radio CD</td>\n",
       "      <td>Alarme</td>\n",
       "      <td>NaN</td>\n",
       "      <td>NaN</td>\n",
       "      <td>NaN</td>\n",
       "      <td>NaN</td>\n",
       "      <td>NaN</td>\n",
       "      <td>0</td>\n",
       "    </tr>\n",
       "  </tbody>\n",
       "</table>\n",
       "<p>5 rows × 24 columns</p>\n",
       "</div>"
      ],
      "text/plain": [
       "                        _id         price      Marque               Modele  \\\n",
       "0  66226547ad4c164ca6fa5f30  180 Millions        Baic            D20 Coupé   \n",
       "1  66226549ad4c164ca6fa5f32  340 Millions  Volkswagen               Golf 7   \n",
       "2  6622654aad4c164ca6fa5f34    1 Millions    Mercedes  Class A 200 diyazel   \n",
       "3  6622654cad4c164ca6fa5f36  162 Millions     Peugeot                  208   \n",
       "4  6622654dad4c164ca6fa5f38    1 Millions    Mercedes                  Gle   \n",
       "\n",
       "    Annee  Energie Kilometrage      Couleur     options[0]    options[1]  ...  \\\n",
       "0  2021.0      GPL     80000km  Gris Argent  Climatisation           ABS  ...   \n",
       "1  2014.0  Essence    169000km        Blanc  Climatisation  Toit ouvrant  ...   \n",
       "2  2023.0   Diesel     19000km        Blanc  Climatisation  Toit ouvrant  ...   \n",
       "3  2013.0   Diesel       400km        Blanc  Climatisation  Toit ouvrant  ...   \n",
       "4  2023.0   Diesel        00km         Noir  Climatisation  Toit ouvrant  ...   \n",
       "\n",
       "                 options[6]             options[7] options[8]  \\\n",
       "0     Phares antibrouillard               Radio CD     Alarme   \n",
       "1  Retroviseurs électriques  Phares antibrouillard   Radio CD   \n",
       "2  Retroviseurs électriques  Phares antibrouillard   Radio CD   \n",
       "3                       NaN                    NaN        NaN   \n",
       "4  Retroviseurs électriques  Phares antibrouillard   Radio CD   \n",
       "\n",
       "           options[9]   options[10]     options[11]   options[12]  \\\n",
       "0  Vitres éléctriques           NaN             NaN           NaN   \n",
       "1              Alarme  Phares xénon  Jantes Alliage  Feux du jour   \n",
       "2              Alarme  Phares xénon  Jantes Alliage  Feux du jour   \n",
       "3                 NaN           NaN             NaN           NaN   \n",
       "4              Alarme           NaN             NaN           NaN   \n",
       "\n",
       "          options[13] options[14] __v  \n",
       "0                 NaN         NaN   0  \n",
       "1  Vitres éléctriques         NaN   0  \n",
       "2  Vitres éléctriques         NaN   0  \n",
       "3                 NaN         NaN   0  \n",
       "4                 NaN         NaN   0  \n",
       "\n",
       "[5 rows x 24 columns]"
      ]
     },
     "execution_count": 3,
     "metadata": {},
     "output_type": "execute_result"
    }
   ],
   "source": [
    "df=pd.read_csv('test.cars.csv')\n",
    "df.head()"
   ]
  },
  {
   "cell_type": "code",
   "execution_count": 4,
   "metadata": {},
   "outputs": [
    {
     "name": "stdout",
     "output_type": "stream",
     "text": [
      "<class 'pandas.core.frame.DataFrame'>\n",
      "RangeIndex: 3292 entries, 0 to 3291\n",
      "Data columns (total 24 columns):\n",
      " #   Column       Non-Null Count  Dtype  \n",
      "---  ------       --------------  -----  \n",
      " 0   _id          3292 non-null   object \n",
      " 1   price        3292 non-null   object \n",
      " 2   Marque       3244 non-null   object \n",
      " 3   Modele       3244 non-null   object \n",
      " 4   Annee        3244 non-null   float64\n",
      " 5   Energie      3177 non-null   object \n",
      " 6   Kilometrage  3150 non-null   object \n",
      " 7   Couleur      3169 non-null   object \n",
      " 8   options[0]   2620 non-null   object \n",
      " 9   options[1]   2617 non-null   object \n",
      " 10  options[2]   2574 non-null   object \n",
      " 11  options[3]   2519 non-null   object \n",
      " 12  options[4]   2430 non-null   object \n",
      " 13  options[5]   2327 non-null   object \n",
      " 14  options[6]   2205 non-null   object \n",
      " 15  options[7]   2074 non-null   object \n",
      " 16  options[8]   1911 non-null   object \n",
      " 17  options[9]   1728 non-null   object \n",
      " 18  options[10]  1523 non-null   object \n",
      " 19  options[11]  1301 non-null   object \n",
      " 20  options[12]  1023 non-null   object \n",
      " 21  options[13]  645 non-null    object \n",
      " 22  options[14]  17 non-null     object \n",
      " 23  __v          3292 non-null   int64  \n",
      "dtypes: float64(1), int64(1), object(22)\n",
      "memory usage: 617.4+ KB\n"
     ]
    }
   ],
   "source": [
    "\n",
    "df.info()\n"
   ]
  },
  {
   "cell_type": "code",
   "execution_count": 5,
   "metadata": {},
   "outputs": [
    {
     "data": {
      "text/plain": [
       "Index(['_id', 'price', 'Marque', 'Modele', 'Annee', 'Energie', 'Kilometrage',\n",
       "       'Couleur', 'options[0]', 'options[1]', 'options[2]', 'options[3]',\n",
       "       'options[4]', 'options[5]', 'options[6]', 'options[7]', 'options[8]',\n",
       "       'options[9]', 'options[10]', 'options[11]', 'options[12]',\n",
       "       'options[13]', 'options[14]', '__v'],\n",
       "      dtype='object')"
      ]
     },
     "execution_count": 5,
     "metadata": {},
     "output_type": "execute_result"
    }
   ],
   "source": [
    "df.columns"
   ]
  },
  {
   "cell_type": "code",
   "execution_count": 6,
   "metadata": {},
   "outputs": [],
   "source": [
    "def app(x):\n",
    "    s=''\n",
    "    for i in x:\n",
    "        if i.isdigit():\n",
    "            s+=i\n",
    "    return int(s)\n"
   ]
  },
  {
   "cell_type": "code",
   "execution_count": 7,
   "metadata": {},
   "outputs": [],
   "source": [
    "df['describe'] = df[['Marque', 'Modele', 'Annee', 'Energie', 'Kilometrage',\n",
    "       'Couleur', 'options[0]', 'options[1]', 'options[2]', 'options[3]',\n",
    "       'options[4]', 'options[5]', 'options[6]', 'options[7]', 'options[8]',\n",
    "       'options[9]', 'options[10]', 'options[11]', 'options[12]',\n",
    "       'options[13]', 'options[14]', '__v']].apply(lambda x: ' '.join(x.dropna().astype(str)), axis=1)\n",
    "df['price on M']=df['price'].apply(app)\n"
   ]
  },
  {
   "cell_type": "code",
   "execution_count": 8,
   "metadata": {},
   "outputs": [
    {
     "data": {
      "text/html": [
       "<div>\n",
       "<style scoped>\n",
       "    .dataframe tbody tr th:only-of-type {\n",
       "        vertical-align: middle;\n",
       "    }\n",
       "\n",
       "    .dataframe tbody tr th {\n",
       "        vertical-align: top;\n",
       "    }\n",
       "\n",
       "    .dataframe thead th {\n",
       "        text-align: right;\n",
       "    }\n",
       "</style>\n",
       "<table border=\"1\" class=\"dataframe\">\n",
       "  <thead>\n",
       "    <tr style=\"text-align: right;\">\n",
       "      <th></th>\n",
       "      <th>describe</th>\n",
       "      <th>price on M</th>\n",
       "    </tr>\n",
       "  </thead>\n",
       "  <tbody>\n",
       "    <tr>\n",
       "      <th>0</th>\n",
       "      <td>Baic D20 Coupé 2021.0 GPL 80000km Gris Argent ...</td>\n",
       "      <td>180</td>\n",
       "    </tr>\n",
       "    <tr>\n",
       "      <th>1</th>\n",
       "      <td>Volkswagen Golf 7 2014.0 Essence 169000km Blan...</td>\n",
       "      <td>340</td>\n",
       "    </tr>\n",
       "    <tr>\n",
       "      <th>2</th>\n",
       "      <td>Mercedes Class A 200 diyazel 2023.0 Diesel 190...</td>\n",
       "      <td>1</td>\n",
       "    </tr>\n",
       "    <tr>\n",
       "      <th>3</th>\n",
       "      <td>Peugeot 208 2013.0 Diesel 400km Blanc Climatis...</td>\n",
       "      <td>162</td>\n",
       "    </tr>\n",
       "    <tr>\n",
       "      <th>4</th>\n",
       "      <td>Mercedes Gle 2023.0 Diesel 00km Noir Climatisa...</td>\n",
       "      <td>1</td>\n",
       "    </tr>\n",
       "  </tbody>\n",
       "</table>\n",
       "</div>"
      ],
      "text/plain": [
       "                                            describe  price on M\n",
       "0  Baic D20 Coupé 2021.0 GPL 80000km Gris Argent ...         180\n",
       "1  Volkswagen Golf 7 2014.0 Essence 169000km Blan...         340\n",
       "2  Mercedes Class A 200 diyazel 2023.0 Diesel 190...           1\n",
       "3  Peugeot 208 2013.0 Diesel 400km Blanc Climatis...         162\n",
       "4  Mercedes Gle 2023.0 Diesel 00km Noir Climatisa...           1"
      ]
     },
     "execution_count": 8,
     "metadata": {},
     "output_type": "execute_result"
    }
   ],
   "source": [
    "df.drop(columns=['_id','Marque', 'Modele', 'Annee', 'Energie', 'Kilometrage',\n",
    "       'Couleur', 'options[0]', 'options[1]', 'options[2]', 'options[3]',\n",
    "       'options[4]', 'options[5]', 'options[6]', 'options[7]', 'options[8]',\n",
    "       'options[9]', 'options[10]', 'options[11]', 'options[12]',\n",
    "       'options[13]', 'options[14]', '__v','price'],inplace=True)\n",
    "df.head()"
   ]
  },
  {
   "cell_type": "code",
   "execution_count": 9,
   "metadata": {},
   "outputs": [
    {
     "name": "stdout",
     "output_type": "stream",
     "text": [
      "<class 'pandas.core.frame.DataFrame'>\n",
      "RangeIndex: 3292 entries, 0 to 3291\n",
      "Data columns (total 2 columns):\n",
      " #   Column      Non-Null Count  Dtype \n",
      "---  ------      --------------  ----- \n",
      " 0   describe    3292 non-null   object\n",
      " 1   price on M  3292 non-null   int64 \n",
      "dtypes: int64(1), object(1)\n",
      "memory usage: 51.6+ KB\n"
     ]
    }
   ],
   "source": [
    "df.info()"
   ]
  },
  {
   "cell_type": "code",
   "execution_count": 10,
   "metadata": {},
   "outputs": [],
   "source": [
    "from sklearn.ensemble import RandomForestRegressor\n",
    "from sklearn.model_selection import train_test_split\n",
    "from sklearn.feature_extraction.text import CountVectorizer\n",
    "from sklearn.model_selection import StratifiedKFold"
   ]
  },
  {
   "cell_type": "code",
   "execution_count": 11,
   "metadata": {},
   "outputs": [],
   "source": [
    "X = df['describe'].astype(str)  # Features\n",
    "y = df['price on M']"
   ]
  },
  {
   "cell_type": "code",
   "execution_count": null,
   "metadata": {},
   "outputs": [],
   "source": []
  },
  {
   "cell_type": "code",
   "execution_count": 12,
   "metadata": {},
   "outputs": [
    {
     "name": "stderr",
     "output_type": "stream",
     "text": [
      "/home/amine/.local/lib/python3.11/site-packages/sklearn/model_selection/_split.py:737: UserWarning: The least populated class in y has only 1 members, which is less than n_splits=4.\n",
      "  warnings.warn(\n"
     ]
    },
    {
     "name": "stdout",
     "output_type": "stream",
     "text": [
      "\tFold 0\n",
      "Mean Squared Error: 25848276842133.695\n",
      "\tFold 1\n",
      "Mean Squared Error: 297732483003016.2\n",
      "\tFold 2\n",
      "Mean Squared Error: 1858900202527061.2\n",
      "\tFold 3\n",
      "Mean Squared Error: 170573738273114.72\n"
     ]
    }
   ],
   "source": [
    "from sklearn.model_selection import StratifiedKFold\n",
    "from sklearn.feature_extraction.text import CountVectorizer\n",
    "from sklearn.ensemble import RandomForestRegressor\n",
    "from sklearn.metrics import mean_squared_error\n",
    "import numpy as np\n",
    "\n",
    "# Assuming 'df' is your DataFrame with 'describe' and 'price' columns\n",
    "\n",
    "skf = StratifiedKFold(n_splits=4, shuffle=True, random_state=8)\n",
    "\n",
    "for i, (train_index, val_index) in enumerate(skf.split(X, y)):\n",
    "    print(f\"\\tFold {i}\")\n",
    "\n",
    "    x_train_count = X.iloc[train_index]\n",
    "    y_train_count = y.iloc[train_index]\n",
    "    x_val_count = X.iloc[val_index]\n",
    "    y_val_count = y.iloc[val_index]\n",
    "\n",
    "    # Convert y_train_count and y_val_count to numpy arrays\n",
    "    y_train_count = np.array(y_train_count)\n",
    "    y_val_count = np.array(y_val_count)\n",
    "\n",
    "    vectorizer = CountVectorizer()\n",
    "    x_train_count = vectorizer.fit_transform(x_train_count)\n",
    "    x_val_count = vectorizer.transform(x_val_count)\n",
    "\n",
    "    model = RandomForestRegressor(random_state=42)\n",
    "\n",
    "    model.fit(x_train_count, y_train_count)\n",
    "    y_pred = model.predict(x_val_count)\n",
    "\n",
    "    # Using mean squared error for evaluation\n",
    "    mse = mean_squared_error(y_val_count, y_pred)\n",
    "    print(\"Mean Squared Error:\", mse)\n"
   ]
  },
  {
   "cell_type": "code",
   "execution_count": 14,
   "metadata": {},
   "outputs": [
    {
     "data": {
      "text/plain": [
       "['vectorizer.pkl']"
      ]
     },
     "execution_count": 14,
     "metadata": {},
     "output_type": "execute_result"
    }
   ],
   "source": [
    "# import joblib\n",
    "# joblib.dump(model,'model.pkl')\n",
    "# joblib.dump(vectorizer,'vectorizer.pkl')"
   ]
  },
  {
   "cell_type": "code",
   "execution_count": null,
   "metadata": {},
   "outputs": [],
   "source": []
  }
 ],
 "metadata": {
  "kernelspec": {
   "display_name": "envi",
   "language": "python",
   "name": "python3"
  },
  "language_info": {
   "codemirror_mode": {
    "name": "ipython",
    "version": 3
   },
   "file_extension": ".py",
   "mimetype": "text/x-python",
   "name": "python",
   "nbconvert_exporter": "python",
   "pygments_lexer": "ipython3",
   "version": "3.11.8"
  }
 },
 "nbformat": 4,
 "nbformat_minor": 2
}
